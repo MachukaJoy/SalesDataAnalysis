{
 "cells": [
  {
   "cell_type": "markdown",
   "metadata": {},
   "source": [
    "# Question 1\n",
    "Create your own decoratorFor this exercise, you will create your own decorator  to measure the execution time of a function. You need to do that from scratch and not use any other built-in decorators (but you are allowed to use the time() module)."
   ]
  },
  {
   "cell_type": "code",
   "execution_count": 40,
   "metadata": {},
   "outputs": [
    {
     "name": "stdout",
     "output_type": "stream",
     "text": [
      "0\n",
      "1\n",
      "2\n",
      "3\n",
      "4\n",
      "5\n",
      "6\n",
      "7\n",
      "8\n",
      "9\n",
      "Function Executed\n",
      "Execution Time: 0.0012297630310058594 seconds\n"
     ]
    }
   ],
   "source": [
    "from time import time\n",
    "\n",
    "def execution_time(func):\n",
    "    def wrapper(*args, **kwargs):\n",
    "        start_time = time()\n",
    "        result = func(*args, **kwargs)\n",
    "        end_time = time()\n",
    "        time_taken = end_time-start_time\n",
    "        print(f\"Execution Time: {time_taken} seconds\")\n",
    "        return result\n",
    "    return wrapper\n",
    "@execution_time\n",
    "def application():\n",
    "    for i in range(10):\n",
    "    #    return i\n",
    "        print(i)\n",
    "    print(\"Function Executed\")\n",
    "\n",
    "application()\n"
   ]
  },
  {
   "cell_type": "markdown",
   "metadata": {},
   "source": [
    "# Question 2\n",
    "\n",
    "For this module project, we would like you to start thinking in terms of business and how you can help businesses solve problems through data. Imagine you will present a dataset and its information and define a business case in two different people in your company: \n",
    "\n",
    "1. Your data science/programming team head\n",
    "\n",
    "2. The CEO\n",
    "\n",
    "Choose a data set from Kaggle.com/datasetsLinks to an external site.. It might be customer/sales data or another type of data you might be interested in. Define a business case and a problem you try to solve. Your explanations must have the appropriate amount and type of information for each role, the business case you are defining and the problem you are aiming to solve. Therefore, you need to be selective as to what details to include to each of your presentation. "
   ]
  },
  {
   "cell_type": "markdown",
   "metadata": {},
   "source": [
    "## Presentation to Data Science/Programming Team Head"
   ]
  },
  {
   "cell_type": "markdown",
   "metadata": {},
   "source": [
    "### Business Case: Optimizing Pizza Production Efficiency"
   ]
  },
  {
   "cell_type": "markdown",
   "metadata": {},
   "source": [
    "### Problem Statement\n",
    "Enhance the efficiency of pizza production and improve the overall customer experience by analyzing the pizza sales dataset. We want to identify patterns and trends that will enable us to optimize inventory management, reduce production time, and potentially introduce new pizza variants based on customer preferences."
   ]
  },
  {
   "cell_type": "markdown",
   "metadata": {},
   "source": [
    "Data Exploration"
   ]
  },
  {
   "cell_type": "code",
   "execution_count": 2,
   "metadata": {},
   "outputs": [
    {
     "data": {
      "text/html": [
       "<div>\n",
       "<style scoped>\n",
       "    .dataframe tbody tr th:only-of-type {\n",
       "        vertical-align: middle;\n",
       "    }\n",
       "\n",
       "    .dataframe tbody tr th {\n",
       "        vertical-align: top;\n",
       "    }\n",
       "\n",
       "    .dataframe thead th {\n",
       "        text-align: right;\n",
       "    }\n",
       "</style>\n",
       "<table border=\"1\" class=\"dataframe\">\n",
       "  <thead>\n",
       "    <tr style=\"text-align: right;\">\n",
       "      <th></th>\n",
       "      <th>pizza_id</th>\n",
       "      <th>order_id</th>\n",
       "      <th>pizza_name_id</th>\n",
       "      <th>quantity</th>\n",
       "      <th>order_date</th>\n",
       "      <th>order_time</th>\n",
       "      <th>unit_price</th>\n",
       "      <th>total_price</th>\n",
       "      <th>pizza_size</th>\n",
       "      <th>pizza_category</th>\n",
       "      <th>pizza_ingredients</th>\n",
       "      <th>pizza_name</th>\n",
       "    </tr>\n",
       "  </thead>\n",
       "  <tbody>\n",
       "    <tr>\n",
       "      <th>0</th>\n",
       "      <td>1.0</td>\n",
       "      <td>1.0</td>\n",
       "      <td>hawaiian_m</td>\n",
       "      <td>1.0</td>\n",
       "      <td>1/1/2015</td>\n",
       "      <td>11:38:36</td>\n",
       "      <td>13.25</td>\n",
       "      <td>13.25</td>\n",
       "      <td>M</td>\n",
       "      <td>Classic</td>\n",
       "      <td>Sliced Ham, Pineapple, Mozzarella Cheese</td>\n",
       "      <td>The Hawaiian Pizza</td>\n",
       "    </tr>\n",
       "    <tr>\n",
       "      <th>1</th>\n",
       "      <td>2.0</td>\n",
       "      <td>2.0</td>\n",
       "      <td>classic_dlx_m</td>\n",
       "      <td>1.0</td>\n",
       "      <td>1/1/2015</td>\n",
       "      <td>11:57:40</td>\n",
       "      <td>16.00</td>\n",
       "      <td>16.00</td>\n",
       "      <td>M</td>\n",
       "      <td>Classic</td>\n",
       "      <td>Pepperoni, Mushrooms, Red Onions, Red Peppers,...</td>\n",
       "      <td>The Classic Deluxe Pizza</td>\n",
       "    </tr>\n",
       "  </tbody>\n",
       "</table>\n",
       "</div>"
      ],
      "text/plain": [
       "   pizza_id  order_id  pizza_name_id  quantity order_date order_time  \\\n",
       "0       1.0       1.0     hawaiian_m       1.0   1/1/2015   11:38:36   \n",
       "1       2.0       2.0  classic_dlx_m       1.0   1/1/2015   11:57:40   \n",
       "\n",
       "   unit_price  total_price pizza_size pizza_category  \\\n",
       "0       13.25        13.25          M        Classic   \n",
       "1       16.00        16.00          M        Classic   \n",
       "\n",
       "                                   pizza_ingredients                pizza_name  \n",
       "0           Sliced Ham, Pineapple, Mozzarella Cheese        The Hawaiian Pizza  \n",
       "1  Pepperoni, Mushrooms, Red Onions, Red Peppers,...  The Classic Deluxe Pizza  "
      ]
     },
     "execution_count": 2,
     "metadata": {},
     "output_type": "execute_result"
    }
   ],
   "source": [
    "import pandas as pd\n",
    "\n",
    "# Load the dataset\n",
    "pizza_data = pd.read_csv('pizza_sales.csv')\n",
    "pizza_data.head(2)"
   ]
  },
  {
   "cell_type": "code",
   "execution_count": 9,
   "metadata": {},
   "outputs": [
    {
     "name": "stdout",
     "output_type": "stream",
     "text": [
      "<class 'pandas.core.frame.DataFrame'>\n",
      "RangeIndex: 48620 entries, 0 to 48619\n",
      "Data columns (total 12 columns):\n",
      " #   Column             Non-Null Count  Dtype  \n",
      "---  ------             --------------  -----  \n",
      " 0   pizza_id           48620 non-null  float64\n",
      " 1   order_id           48620 non-null  float64\n",
      " 2   pizza_name_id      48620 non-null  object \n",
      " 3   quantity           48620 non-null  float64\n",
      " 4   order_date         48620 non-null  object \n",
      " 5   order_time         48620 non-null  object \n",
      " 6   unit_price         48620 non-null  float64\n",
      " 7   total_price        48620 non-null  float64\n",
      " 8   pizza_size         48620 non-null  object \n",
      " 9   pizza_category     48620 non-null  object \n",
      " 10  pizza_ingredients  48620 non-null  object \n",
      " 11  pizza_name         48620 non-null  object \n",
      "dtypes: float64(5), object(7)\n",
      "memory usage: 4.5+ MB\n"
     ]
    }
   ],
   "source": [
    "# No of entries\n",
    "pizza_data.info()"
   ]
  },
  {
   "cell_type": "markdown",
   "metadata": {},
   "source": [
    "Check for missing or inconsistent data in the dataset."
   ]
  },
  {
   "cell_type": "code",
   "execution_count": 4,
   "metadata": {},
   "outputs": [
    {
     "data": {
      "text/plain": [
       "pizza_id             0\n",
       "order_id             0\n",
       "pizza_name_id        0\n",
       "quantity             0\n",
       "order_date           0\n",
       "order_time           0\n",
       "unit_price           0\n",
       "total_price          0\n",
       "pizza_size           0\n",
       "pizza_category       0\n",
       "pizza_ingredients    0\n",
       "pizza_name           0\n",
       "dtype: int64"
      ]
     },
     "execution_count": 4,
     "metadata": {},
     "output_type": "execute_result"
    }
   ],
   "source": [
    "# Check for missing data\n",
    "missing_data = pizza_data.isnull().sum()\n",
    "missing_data"
   ]
  },
  {
   "cell_type": "markdown",
   "metadata": {},
   "source": [
    "Explore the distribution of pizza sizes, categories, and ingredients."
   ]
  },
  {
   "cell_type": "code",
   "execution_count": 5,
   "metadata": {},
   "outputs": [
    {
     "data": {
      "text/plain": [
       "L      18526\n",
       "M      15385\n",
       "S      14137\n",
       "XL       544\n",
       "XXL       28\n",
       "Name: pizza_size, dtype: int64"
      ]
     },
     "execution_count": 5,
     "metadata": {},
     "output_type": "execute_result"
    }
   ],
   "source": [
    "# Explore pizza sizes\n",
    "pizza_sizes = pizza_data['pizza_size'].value_counts()\n",
    "pizza_sizes"
   ]
  },
  {
   "cell_type": "code",
   "execution_count": 6,
   "metadata": {},
   "outputs": [
    {
     "data": {
      "text/plain": [
       "Classic    14579\n",
       "Supreme    11777\n",
       "Veggie     11449\n",
       "Chicken    10815\n",
       "Name: pizza_category, dtype: int64"
      ]
     },
     "execution_count": 6,
     "metadata": {},
     "output_type": "execute_result"
    }
   ],
   "source": [
    "# Explore categories\n",
    "pizza_categories = pizza_data['pizza_category'].value_counts()\n",
    "pizza_categories"
   ]
  },
  {
   "cell_type": "code",
   "execution_count": 11,
   "metadata": {},
   "outputs": [],
   "source": [
    "# # Explore ingredients\n",
    "# pizza_ingred = pizza_data['pizza_ingredients'].value_counts()\n",
    "# pizza_ingred"
   ]
  },
  {
   "cell_type": "markdown",
   "metadata": {},
   "source": [
    "Demand Analysis"
   ]
  },
  {
   "cell_type": "markdown",
   "metadata": {},
   "source": [
    "Analyze the most popular and least popular pizza variants based on order frequency and total sales"
   ]
  },
  {
   "cell_type": "code",
   "execution_count": 13,
   "metadata": {},
   "outputs": [
    {
     "data": {
      "text/plain": [
       "pizza_name\n",
       "The Classic Deluxe Pizza                      2416\n",
       "The Barbecue Chicken Pizza                    2372\n",
       "The Hawaiian Pizza                            2370\n",
       "The Pepperoni Pizza                           2369\n",
       "The Thai Chicken Pizza                        2315\n",
       "The California Chicken Pizza                  2302\n",
       "The Spicy Italian Pizza                       1887\n",
       "The Sicilian Pizza                            1887\n",
       "The Southwest Chicken Pizza                   1885\n",
       "The Four Cheese Pizza                         1850\n",
       "The Italian Supreme Pizza                     1849\n",
       "The Big Meat Pizza                            1811\n",
       "The Vegetables + Vegetables Pizza             1510\n",
       "The Mexicana Pizza                            1456\n",
       "The Napolitana Pizza                          1451\n",
       "The Spinach and Feta Pizza                    1432\n",
       "The Prosciutto and Arugula Pizza              1428\n",
       "The Pepper Salami Pizza                       1422\n",
       "The Italian Capocollo Pizza                   1414\n",
       "The Greek Pizza                               1406\n",
       "The Five Cheese Pizza                         1359\n",
       "The Pepperoni, Mushroom, and Peppers Pizza    1342\n",
       "The Green Garden Pizza                         987\n",
       "The Chicken Alfredo Pizza                      980\n",
       "The Italian Vegetables Pizza                   975\n",
       "The Chicken Pesto Pizza                        961\n",
       "The Soppressata Pizza                          957\n",
       "The Spinach Pesto Pizza                        957\n",
       "The Spinach Supreme Pizza                      940\n",
       "The Calabrese Pizza                            927\n",
       "The Mediterranean Pizza                        923\n",
       "The Brie Carre Pizza                           480\n",
       "Name: order_id, dtype: int64"
      ]
     },
     "execution_count": 13,
     "metadata": {},
     "output_type": "execute_result"
    }
   ],
   "source": [
    "# Demand Analysis\n",
    "popular_pizzas = pizza_data.groupby('pizza_name')['order_id'].count().sort_values(ascending=False)\n",
    "popular_pizzas"
   ]
  },
  {
   "cell_type": "code",
   "execution_count": 14,
   "metadata": {},
   "outputs": [
    {
     "data": {
      "text/plain": [
       "pizza_name\n",
       "The Thai Chicken Pizza                        43434.25\n",
       "The Barbecue Chicken Pizza                    42768.00\n",
       "The California Chicken Pizza                  41409.50\n",
       "The Classic Deluxe Pizza                      38180.50\n",
       "The Spicy Italian Pizza                       34831.25\n",
       "The Southwest Chicken Pizza                   34705.75\n",
       "The Italian Supreme Pizza                     33476.75\n",
       "The Hawaiian Pizza                            32273.25\n",
       "The Four Cheese Pizza                         32265.70\n",
       "The Sicilian Pizza                            30940.50\n",
       "The Pepperoni Pizza                           30161.75\n",
       "The Greek Pizza                               28454.10\n",
       "The Mexicana Pizza                            26780.75\n",
       "The Five Cheese Pizza                         26066.50\n",
       "The Pepper Salami Pizza                       25529.00\n",
       "The Italian Capocollo Pizza                   25094.00\n",
       "The Vegetables + Vegetables Pizza             24374.75\n",
       "The Prosciutto and Arugula Pizza              24193.25\n",
       "The Napolitana Pizza                          24087.00\n",
       "The Spinach and Feta Pizza                    23271.25\n",
       "The Big Meat Pizza                            22968.00\n",
       "The Pepperoni, Mushroom, and Peppers Pizza    18834.50\n",
       "The Chicken Alfredo Pizza                     16900.25\n",
       "The Chicken Pesto Pizza                       16701.75\n",
       "The Soppressata Pizza                         16425.75\n",
       "The Italian Vegetables Pizza                  16019.25\n",
       "The Calabrese Pizza                           15934.25\n",
       "The Spinach Pesto Pizza                       15596.00\n",
       "The Mediterranean Pizza                       15360.50\n",
       "The Spinach Supreme Pizza                     15277.75\n",
       "The Green Garden Pizza                        13955.75\n",
       "The Brie Carre Pizza                          11588.50\n",
       "Name: total_price, dtype: float64"
      ]
     },
     "execution_count": 14,
     "metadata": {},
     "output_type": "execute_result"
    }
   ],
   "source": [
    "total_sales_by_pizza = pizza_data.groupby('pizza_name')['total_price'].sum().sort_values(ascending=False)\n",
    "total_sales_by_pizza"
   ]
  },
  {
   "cell_type": "code",
   "execution_count": 19,
   "metadata": {},
   "outputs": [
    {
     "name": "stdout",
     "output_type": "stream",
     "text": [
      "order_time\n",
      "12:32:00    26\n",
      "11:59:10    24\n",
      "12:26:04    23\n",
      "12:52:36    23\n",
      "12:53:29    23\n",
      "12:25:12    21\n",
      "11:57:15    21\n",
      "13:31:27    21\n",
      "11:50:01    21\n",
      "12:18:44    20\n",
      "Name: order_id, dtype: int64\n",
      "order_time\n",
      "14:24:00    1\n",
      "14:24:04    1\n",
      "14:24:05    1\n",
      "14:24:14    1\n",
      "14:24:30    1\n",
      "14:24:36    1\n",
      "14:24:44    1\n",
      "19:19:13    1\n",
      "19:19:10    1\n",
      "10:25:19    1\n",
      "Name: order_id, dtype: int64\n"
     ]
    }
   ],
   "source": [
    "# top 10 and bottom 10 popular order times\n",
    "peak_order_times = pizza_data.groupby('order_time')['order_id'].count().sort_values(ascending=False)\n",
    "print(peak_order_times.head(10))\n",
    "print(peak_order_times.tail(10))"
   ]
  },
  {
   "cell_type": "markdown",
   "metadata": {},
   "source": [
    "Inventory Optimization"
   ]
  },
  {
   "cell_type": "markdown",
   "metadata": {},
   "source": [
    "Correlation between pizza size and ingredients to minimize inventory waste."
   ]
  },
  {
   "cell_type": "code",
   "execution_count": 25,
   "metadata": {},
   "outputs": [
    {
     "name": "stderr",
     "output_type": "stream",
     "text": [
      "C:\\Users\\user\\AppData\\Local\\Temp\\ipykernel_15060\\328043758.py:2: FutureWarning: The default value of numeric_only in DataFrame.corr is deprecated. In a future version, it will default to False. Select only valid columns or specify the value of numeric_only to silence this warning.\n",
      "  correlation_matrix = columns.corr()\n"
     ]
    },
    {
     "data": {
      "text/html": [
       "<div>\n",
       "<style scoped>\n",
       "    .dataframe tbody tr th:only-of-type {\n",
       "        vertical-align: middle;\n",
       "    }\n",
       "\n",
       "    .dataframe tbody tr th {\n",
       "        vertical-align: top;\n",
       "    }\n",
       "\n",
       "    .dataframe thead th {\n",
       "        text-align: right;\n",
       "    }\n",
       "</style>\n",
       "<table border=\"1\" class=\"dataframe\">\n",
       "  <thead>\n",
       "    <tr style=\"text-align: right;\">\n",
       "      <th></th>\n",
       "    </tr>\n",
       "  </thead>\n",
       "  <tbody>\n",
       "  </tbody>\n",
       "</table>\n",
       "</div>"
      ],
      "text/plain": [
       "Empty DataFrame\n",
       "Columns: []\n",
       "Index: []"
      ]
     },
     "execution_count": 25,
     "metadata": {},
     "output_type": "execute_result"
    }
   ],
   "source": [
    "columns = pizza_data[['pizza_size', 'pizza_ingredients']]\n",
    "correlation_matrix = columns.corr()\n",
    "correlation_matrix\n"
   ]
  },
  {
   "cell_type": "code",
   "execution_count": 26,
   "metadata": {},
   "outputs": [
    {
     "name": "stdout",
     "output_type": "stream",
     "text": [
      "            unit_price  quantity\n",
      "unit_price    1.000000  0.007142\n",
      "quantity      0.007142  1.000000\n"
     ]
    }
   ],
   "source": [
    "# Select numeric columns for correlation analysis\n",
    "numeric_columns = pizza_data.select_dtypes(include='number')\n",
    "\n",
    "# Select the two columns for correlation analysis\n",
    "selected_columns = ['unit_price', 'quantity']\n",
    "\n",
    "# Calculate the correlation matrix with numeric_only=True\n",
    "correlation_matrix = numeric_columns[selected_columns].corr()\n",
    "\n",
    "# Print the correlation matrix\n",
    "print(correlation_matrix)"
   ]
  },
  {
   "cell_type": "markdown",
   "metadata": {},
   "source": [
    "## Presentation to CEO"
   ]
  },
  {
   "cell_type": "markdown",
   "metadata": {},
   "source": [
    "### Business Case: Improving Profit Margins, Customer Satisfaction and Maximimize Revenue"
   ]
  },
  {
   "cell_type": "markdown",
   "metadata": {},
   "source": [
    "### Problem Statement\n",
    "Increase profit margins and enhance customer satisfaction by leveraging insights from the pizza sales dataset. By understanding customer preferences, optimizing pricing strategies, and introducing targeted promotions, we aim to boost sales and loyalty."
   ]
  },
  {
   "cell_type": "markdown",
   "metadata": {},
   "source": [
    "- Overview of pizza sales performance, highlighting top-selling variants, and categories.\n",
    "- Proposal for a pricing strategy based on customer preferences.\n",
    "- Recommendation for targeted promotions or discounts to boost sales during specific time periods or for particular customer segments."
   ]
  },
  {
   "cell_type": "markdown",
   "metadata": {},
   "source": [
    "Customer Segmentation"
   ]
  },
  {
   "cell_type": "code",
   "execution_count": 30,
   "metadata": {},
   "outputs": [
    {
     "data": {
      "text/html": [
       "<div>\n",
       "<style scoped>\n",
       "    .dataframe tbody tr th:only-of-type {\n",
       "        vertical-align: middle;\n",
       "    }\n",
       "\n",
       "    .dataframe tbody tr th {\n",
       "        vertical-align: top;\n",
       "    }\n",
       "\n",
       "    .dataframe thead th {\n",
       "        text-align: right;\n",
       "    }\n",
       "</style>\n",
       "<table border=\"1\" class=\"dataframe\">\n",
       "  <thead>\n",
       "    <tr style=\"text-align: right;\">\n",
       "      <th></th>\n",
       "      <th>total_price</th>\n",
       "      <th>order_id</th>\n",
       "      <th>pizza_category</th>\n",
       "    </tr>\n",
       "    <tr>\n",
       "      <th>pizza_name_id</th>\n",
       "      <th></th>\n",
       "      <th></th>\n",
       "      <th></th>\n",
       "    </tr>\n",
       "  </thead>\n",
       "  <tbody>\n",
       "    <tr>\n",
       "      <th>bbq_ckn_l</th>\n",
       "      <td>20584.00</td>\n",
       "      <td>967</td>\n",
       "      <td>1</td>\n",
       "    </tr>\n",
       "    <tr>\n",
       "      <th>bbq_ckn_m</th>\n",
       "      <td>16013.00</td>\n",
       "      <td>926</td>\n",
       "      <td>1</td>\n",
       "    </tr>\n",
       "    <tr>\n",
       "      <th>bbq_ckn_s</th>\n",
       "      <td>6171.00</td>\n",
       "      <td>479</td>\n",
       "      <td>1</td>\n",
       "    </tr>\n",
       "    <tr>\n",
       "      <th>big_meat_s</th>\n",
       "      <td>22968.00</td>\n",
       "      <td>1811</td>\n",
       "      <td>1</td>\n",
       "    </tr>\n",
       "    <tr>\n",
       "      <th>brie_carre_s</th>\n",
       "      <td>11588.50</td>\n",
       "      <td>480</td>\n",
       "      <td>1</td>\n",
       "    </tr>\n",
       "    <tr>\n",
       "      <th>...</th>\n",
       "      <td>...</td>\n",
       "      <td>...</td>\n",
       "      <td>...</td>\n",
       "    </tr>\n",
       "    <tr>\n",
       "      <th>the_greek_xl</th>\n",
       "      <td>14076.00</td>\n",
       "      <td>544</td>\n",
       "      <td>1</td>\n",
       "    </tr>\n",
       "    <tr>\n",
       "      <th>the_greek_xxl</th>\n",
       "      <td>1006.60</td>\n",
       "      <td>28</td>\n",
       "      <td>1</td>\n",
       "    </tr>\n",
       "    <tr>\n",
       "      <th>veggie_veg_l</th>\n",
       "      <td>8646.75</td>\n",
       "      <td>423</td>\n",
       "      <td>1</td>\n",
       "    </tr>\n",
       "    <tr>\n",
       "      <th>veggie_veg_m</th>\n",
       "      <td>10160.00</td>\n",
       "      <td>630</td>\n",
       "      <td>1</td>\n",
       "    </tr>\n",
       "    <tr>\n",
       "      <th>veggie_veg_s</th>\n",
       "      <td>5568.00</td>\n",
       "      <td>457</td>\n",
       "      <td>1</td>\n",
       "    </tr>\n",
       "  </tbody>\n",
       "</table>\n",
       "<p>91 rows × 3 columns</p>\n",
       "</div>"
      ],
      "text/plain": [
       "               total_price  order_id  pizza_category\n",
       "pizza_name_id                                       \n",
       "bbq_ckn_l         20584.00       967               1\n",
       "bbq_ckn_m         16013.00       926               1\n",
       "bbq_ckn_s          6171.00       479               1\n",
       "big_meat_s        22968.00      1811               1\n",
       "brie_carre_s      11588.50       480               1\n",
       "...                    ...       ...             ...\n",
       "the_greek_xl      14076.00       544               1\n",
       "the_greek_xxl      1006.60        28               1\n",
       "veggie_veg_l       8646.75       423               1\n",
       "veggie_veg_m      10160.00       630               1\n",
       "veggie_veg_s       5568.00       457               1\n",
       "\n",
       "[91 rows x 3 columns]"
      ]
     },
     "execution_count": 30,
     "metadata": {},
     "output_type": "execute_result"
    }
   ],
   "source": [
    "customer_segments = pizza_data.groupby('pizza_name_id').agg({\n",
    "    'total_price': 'sum',\n",
    "    'order_id': 'count',\n",
    "    'pizza_category': 'nunique'\n",
    "})\n",
    "customer_segments"
   ]
  },
  {
   "cell_type": "markdown",
   "metadata": {},
   "source": [
    "Pricing Strategy"
   ]
  },
  {
   "cell_type": "code",
   "execution_count": 31,
   "metadata": {},
   "outputs": [
    {
     "data": {
      "text/html": [
       "<div>\n",
       "<style scoped>\n",
       "    .dataframe tbody tr th:only-of-type {\n",
       "        vertical-align: middle;\n",
       "    }\n",
       "\n",
       "    .dataframe tbody tr th {\n",
       "        vertical-align: top;\n",
       "    }\n",
       "\n",
       "    .dataframe thead th {\n",
       "        text-align: right;\n",
       "    }\n",
       "</style>\n",
       "<table border=\"1\" class=\"dataframe\">\n",
       "  <thead>\n",
       "    <tr style=\"text-align: right;\">\n",
       "      <th></th>\n",
       "      <th>unit_price</th>\n",
       "      <th>quantity</th>\n",
       "    </tr>\n",
       "  </thead>\n",
       "  <tbody>\n",
       "    <tr>\n",
       "      <th>unit_price</th>\n",
       "      <td>1.000000</td>\n",
       "      <td>0.007142</td>\n",
       "    </tr>\n",
       "    <tr>\n",
       "      <th>quantity</th>\n",
       "      <td>0.007142</td>\n",
       "      <td>1.000000</td>\n",
       "    </tr>\n",
       "  </tbody>\n",
       "</table>\n",
       "</div>"
      ],
      "text/plain": [
       "            unit_price  quantity\n",
       "unit_price    1.000000  0.007142\n",
       "quantity      0.007142  1.000000"
      ]
     },
     "execution_count": 31,
     "metadata": {},
     "output_type": "execute_result"
    }
   ],
   "source": [
    "price_quantity_correlation = pizza_data[['unit_price', 'quantity']].corr()\n",
    "price_quantity_correlation"
   ]
  },
  {
   "cell_type": "code",
   "execution_count": 37,
   "metadata": {},
   "outputs": [
    {
     "name": "stdout",
     "output_type": "stream",
     "text": [
      "Total Revenue: $817860.05\n"
     ]
    }
   ],
   "source": [
    "# Calculate total revenue and profit\n",
    "total_revenue = pizza_data['total_price'].sum()\n",
    "total_cost = pizza_data['quantity'] * pizza_data['unit_price'].sum()\n",
    "total_profit = total_revenue - total_cost\n",
    "\n",
    "# Present key metrics to the CEO\n",
    "print(f\"Total Revenue: ${total_revenue}\")"
   ]
  },
  {
   "cell_type": "code",
   "execution_count": 38,
   "metadata": {},
   "outputs": [
    {
     "name": "stdout",
     "output_type": "stream",
     "text": [
      "Total Cost: $0        801944.7\n",
      "1        801944.7\n",
      "2        801944.7\n",
      "3        801944.7\n",
      "4        801944.7\n",
      "           ...   \n",
      "48615    801944.7\n",
      "48616    801944.7\n",
      "48617    801944.7\n",
      "48618    801944.7\n",
      "48619    801944.7\n",
      "Name: quantity, Length: 48620, dtype: float64\n"
     ]
    }
   ],
   "source": [
    "print(f\"Total Cost: ${total_cost}\")"
   ]
  },
  {
   "cell_type": "code",
   "execution_count": 35,
   "metadata": {},
   "outputs": [
    {
     "name": "stdout",
     "output_type": "stream",
     "text": [
      "Total Profit: $0        15915.35\n",
      "1        15915.35\n",
      "2        15915.35\n",
      "3        15915.35\n",
      "4        15915.35\n",
      "           ...   \n",
      "48615    15915.35\n",
      "48616    15915.35\n",
      "48617    15915.35\n",
      "48618    15915.35\n",
      "48619    15915.35\n",
      "Name: quantity, Length: 48620, dtype: float64\n"
     ]
    }
   ],
   "source": [
    "print(f\"Total Profit: ${total_profit}\")"
   ]
  }
 ],
 "metadata": {
  "kernelspec": {
   "display_name": "base",
   "language": "python",
   "name": "python3"
  },
  "language_info": {
   "codemirror_mode": {
    "name": "ipython",
    "version": 3
   },
   "file_extension": ".py",
   "mimetype": "text/x-python",
   "name": "python",
   "nbconvert_exporter": "python",
   "pygments_lexer": "ipython3",
   "version": "3.10.9"
  }
 },
 "nbformat": 4,
 "nbformat_minor": 2
}
